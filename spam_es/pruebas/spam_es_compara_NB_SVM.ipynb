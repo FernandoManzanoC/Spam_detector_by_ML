{
 "cells": [
  {
   "cell_type": "code",
   "execution_count": null,
   "metadata": {},
   "outputs": [],
   "source": []
  },
  {
   "cell_type": "markdown",
   "metadata": {},
   "source": [
    "## Ponemos a prueba el modelo SVM entrenado con todo train (X,y) frente a solo entrenado con X_train"
   ]
  },
  {
   "cell_type": "code",
   "execution_count": null,
   "metadata": {},
   "outputs": [],
   "source": []
  },
  {
   "cell_type": "markdown",
   "metadata": {},
   "source": [
    "# Paso 1: Cargar el Modelo Entrenado\n"
   ]
  },
  {
   "cell_type": "code",
   "execution_count": 1,
   "metadata": {},
   "outputs": [
    {
     "name": "stdout",
     "output_type": "stream",
     "text": [
      "Modelo cargado: SVC(kernel='linear', random_state=42)\n"
     ]
    }
   ],
   "source": [
    "from sklearn.svm import SVC\n",
    "\n",
    "from sklearn.feature_extraction.text import TfidfVectorizer\n",
    "from sklearn.metrics import classification_report, confusion_matrix\n",
    "import pickle  \n",
    "\n",
    "# Cargar el modelo entrenado\n",
    "\n",
    "with open('../modelos_y_vectorizadores/modelo_SVM_todo_train.pkl', 'rb') as archivo: \n",
    "     loaded_model_svm = pickle.load(archivo)\n",
    "\n",
    "# Verificar que el modelo se haya cargado correctamente\n",
    "print(\"Modelo cargado:\", loaded_model_svm)\n"
   ]
  },
  {
   "cell_type": "code",
   "execution_count": 2,
   "metadata": {},
   "outputs": [],
   "source": [
    "import joblib\n",
    "# Cargar el vectorizador\n",
    "vectorizador = joblib.load('../modelos_y_vectorizadores/vectorizador.pkl')\n"
   ]
  },
  {
   "cell_type": "markdown",
   "metadata": {},
   "source": [
    "# Paso 2: Preprocesar test.csv\n",
    "\n",
    "Ahora, procede a cargar y preprocesar test.csv de la misma manera que lo hicimos con train.csv"
   ]
  },
  {
   "cell_type": "code",
   "execution_count": 3,
   "metadata": {},
   "outputs": [
    {
     "data": {
      "text/html": [
       "<div>\n",
       "<style scoped>\n",
       "    .dataframe tbody tr th:only-of-type {\n",
       "        vertical-align: middle;\n",
       "    }\n",
       "\n",
       "    .dataframe tbody tr th {\n",
       "        vertical-align: top;\n",
       "    }\n",
       "\n",
       "    .dataframe thead th {\n",
       "        text-align: right;\n",
       "    }\n",
       "</style>\n",
       "<table border=\"1\" class=\"dataframe\">\n",
       "  <thead>\n",
       "    <tr style=\"text-align: right;\">\n",
       "      <th></th>\n",
       "      <th>mensaje</th>\n",
       "      <th>tipo</th>\n",
       "    </tr>\n",
       "  </thead>\n",
       "  <tbody>\n",
       "    <tr>\n",
       "      <th>0</th>\n",
       "      <td>Tu devolucion esta siendo procesada</td>\n",
       "      <td>ham</td>\n",
       "    </tr>\n",
       "    <tr>\n",
       "      <th>1</th>\n",
       "      <td>Gana dinero por compartir tus opiniones</td>\n",
       "      <td>spam</td>\n",
       "    </tr>\n",
       "    <tr>\n",
       "      <th>2</th>\n",
       "      <td>Recordatorio de tu cita con el nutricionista</td>\n",
       "      <td>ham</td>\n",
       "    </tr>\n",
       "    <tr>\n",
       "      <th>3</th>\n",
       "      <td>Quema grasa abdominal con este suplemento</td>\n",
       "      <td>spam</td>\n",
       "    </tr>\n",
       "    <tr>\n",
       "      <th>4</th>\n",
       "      <td>Agradecemos tu preferencia</td>\n",
       "      <td>ham</td>\n",
       "    </tr>\n",
       "  </tbody>\n",
       "</table>\n",
       "</div>"
      ],
      "text/plain": [
       "                                        mensaje  tipo\n",
       "0           Tu devolucion esta siendo procesada   ham\n",
       "1       Gana dinero por compartir tus opiniones  spam\n",
       "2  Recordatorio de tu cita con el nutricionista   ham\n",
       "3     Quema grasa abdominal con este suplemento  spam\n",
       "4                    Agradecemos tu preferencia   ham"
      ]
     },
     "execution_count": 3,
     "metadata": {},
     "output_type": "execute_result"
    }
   ],
   "source": [
    "import pandas as pd\n",
    "\n",
    "# Cargar test.csv\n",
    "test_df = pd.read_csv('../data_es/test.csv')\n",
    "\n",
    "test_df.head()\n"
   ]
  },
  {
   "cell_type": "code",
   "execution_count": 4,
   "metadata": {},
   "outputs": [
    {
     "data": {
      "text/html": [
       "<div>\n",
       "<style scoped>\n",
       "    .dataframe tbody tr th:only-of-type {\n",
       "        vertical-align: middle;\n",
       "    }\n",
       "\n",
       "    .dataframe tbody tr th {\n",
       "        vertical-align: top;\n",
       "    }\n",
       "\n",
       "    .dataframe thead th {\n",
       "        text-align: right;\n",
       "    }\n",
       "</style>\n",
       "<table border=\"1\" class=\"dataframe\">\n",
       "  <thead>\n",
       "    <tr style=\"text-align: right;\">\n",
       "      <th></th>\n",
       "      <th>mensaje</th>\n",
       "      <th>tipo</th>\n",
       "    </tr>\n",
       "  </thead>\n",
       "  <tbody>\n",
       "    <tr>\n",
       "      <th>count</th>\n",
       "      <td>209</td>\n",
       "      <td>209</td>\n",
       "    </tr>\n",
       "    <tr>\n",
       "      <th>unique</th>\n",
       "      <td>209</td>\n",
       "      <td>2</td>\n",
       "    </tr>\n",
       "    <tr>\n",
       "      <th>top</th>\n",
       "      <td>Tu devolucion esta siendo procesada</td>\n",
       "      <td>ham</td>\n",
       "    </tr>\n",
       "    <tr>\n",
       "      <th>freq</th>\n",
       "      <td>1</td>\n",
       "      <td>109</td>\n",
       "    </tr>\n",
       "  </tbody>\n",
       "</table>\n",
       "</div>"
      ],
      "text/plain": [
       "                                    mensaje tipo\n",
       "count                                   209  209\n",
       "unique                                  209    2\n",
       "top     Tu devolucion esta siendo procesada  ham\n",
       "freq                                      1  109"
      ]
     },
     "execution_count": 4,
     "metadata": {},
     "output_type": "execute_result"
    }
   ],
   "source": [
    "test_df.describe()"
   ]
  },
  {
   "cell_type": "code",
   "execution_count": 5,
   "metadata": {},
   "outputs": [
    {
     "name": "stdout",
     "output_type": "stream",
     "text": [
      "<class 'pandas.core.frame.DataFrame'>\n",
      "RangeIndex: 209 entries, 0 to 208\n",
      "Data columns (total 2 columns):\n",
      " #   Column   Non-Null Count  Dtype \n",
      "---  ------   --------------  ----- \n",
      " 0   mensaje  209 non-null    object\n",
      " 1   tipo     209 non-null    object\n",
      "dtypes: object(2)\n",
      "memory usage: 3.4+ KB\n"
     ]
    }
   ],
   "source": [
    "test_df.info()"
   ]
  },
  {
   "cell_type": "code",
   "execution_count": 6,
   "metadata": {},
   "outputs": [
    {
     "name": "stdout",
     "output_type": "stream",
     "text": [
      "Mensajes duplicados:\n",
      "Empty DataFrame\n",
      "Columns: [mensaje, tipo]\n",
      "Index: []\n"
     ]
    }
   ],
   "source": [
    "# Contar los mensajes duplicados\n",
    "duplicados = test_df[test_df.duplicated(['mensaje'], keep=False)]\n",
    "\n",
    "# Mostrar los mensajes duplicados\n",
    "print(\"Mensajes duplicados:\")\n",
    "print(duplicados)\n"
   ]
  },
  {
   "cell_type": "code",
   "execution_count": 7,
   "metadata": {},
   "outputs": [
    {
     "name": "stdout",
     "output_type": "stream",
     "text": [
      "Index(['mensaje', 'tipo'], dtype='object')\n"
     ]
    }
   ],
   "source": [
    "# Mostrar los nombres de las columnas del dataset\n",
    "print(test_df.columns)"
   ]
  },
  {
   "cell_type": "code",
   "execution_count": 8,
   "metadata": {},
   "outputs": [
    {
     "name": "stdout",
     "output_type": "stream",
     "text": [
      "                                          mensaje  \\\n",
      "0             Tu devolucion esta siendo procesada   \n",
      "1         Gana dinero por compartir tus opiniones   \n",
      "2    Recordatorio de tu cita con el nutricionista   \n",
      "3       Quema grasa abdominal con este suplemento   \n",
      "4                      Agradecemos tu preferencia   \n",
      "5             Obten tu score crediticio sin costo   \n",
      "6    Firma el acuerdo de confidencialidad adjunto   \n",
      "7         Aprovecha descuentos exclusivos para ti   \n",
      "8             Confirmamos que recibimos tu pedido   \n",
      "9  Desata tu potencial sexual con estas pastillas   \n",
      "\n",
      "                 mensaje_limpio_stopwords  \n",
      "0             devolucion siendo procesada  \n",
      "1         gana dinero compartir opiniones  \n",
      "2         recordatorio cita nutricionista  \n",
      "3        quema grasa abdominal suplemento  \n",
      "4                 agradecemos preferencia  \n",
      "5            obten score crediticio costo  \n",
      "6  firma acuerdo confidencialidad adjunto  \n",
      "7         aprovecha descuentos exclusivos  \n",
      "8            confirmamos recibimos pedido  \n",
      "9       desata potencial sexual pastillas  \n"
     ]
    },
    {
     "name": "stderr",
     "output_type": "stream",
     "text": [
      "[nltk_data] Downloading package stopwords to\n",
      "[nltk_data]     C:\\Users\\ferna\\AppData\\Roaming\\nltk_data...\n",
      "[nltk_data]   Package stopwords is already up-to-date!\n"
     ]
    }
   ],
   "source": [
    "import nltk\n",
    "from nltk.corpus import stopwords\n",
    "import re\n",
    "\n",
    "nltk.download('stopwords')\n",
    "stopwords_sp = stopwords.words('spanish')\n",
    "\n",
    "# Agregar palabras adicionales que no aporten significado en este contexto específico\n",
    "stopwords_sp.extend(['este', 'nuestro', 'con', 'para', 'esta'])  # Podemos ajustar esta lista según necesitemos\n",
    "\n",
    "# Función para limpiar el texto y filtrar stopwords\n",
    "def limpiar_texto_con_stopwords(texto):\n",
    "    texto = re.sub(r'\\W', ' ', texto) # Eliminar caracteres no alfanuméricos\n",
    "    texto = texto.lower() # Convertir a minúsculas\n",
    "    texto = re.sub(r'\\s+', ' ', texto) # Eliminar espacios extra\n",
    "    palabras = texto.split()\n",
    "    palabras_filtradas = [palabra for palabra in palabras if palabra not in stopwords_sp]\n",
    "    return ' '.join(palabras_filtradas)\n",
    "\n",
    "# Aplicar limpieza con filtro de stopwords a los mensajes\n",
    "test_df['mensaje_limpio_stopwords'] = test_df['mensaje'].apply(limpiar_texto_con_stopwords)\n",
    "\n",
    "# Mostrar los mensajes limpios con filtrado de stopwords\n",
    "print(test_df[['mensaje', 'mensaje_limpio_stopwords']].head(10))"
   ]
  },
  {
   "cell_type": "markdown",
   "metadata": {},
   "source": [
    "# Vectorización de los Mensajes de Test\n",
    "limpios de test_df usando el vectorizador cargado:"
   ]
  },
  {
   "cell_type": "markdown",
   "metadata": {},
   "source": []
  },
  {
   "cell_type": "code",
   "execution_count": null,
   "metadata": {},
   "outputs": [],
   "source": []
  },
  {
   "cell_type": "code",
   "execution_count": 9,
   "metadata": {},
   "outputs": [],
   "source": [
    "# Aplicar transformación usando el vectorizador cargado\n",
    "X_test = vectorizador.transform(test_df['mensaje_limpio_stopwords'])\n"
   ]
  },
  {
   "cell_type": "markdown",
   "metadata": {},
   "source": [
    "# Hacer Predicciones con el Modelo\n",
    "El modelo Naive Bayes cargado para hacer predicciones sobre X_test:"
   ]
  },
  {
   "cell_type": "code",
   "execution_count": 19,
   "metadata": {},
   "outputs": [
    {
     "name": "stdout",
     "output_type": "stream",
     "text": [
      "Reporte de Clasificación:\n",
      "              precision    recall  f1-score   support\n",
      "\n",
      "         ham       0.91      0.83      0.87       109\n",
      "        spam       0.83      0.91      0.87       100\n",
      "\n",
      "    accuracy                           0.87       209\n",
      "   macro avg       0.87      0.87      0.87       209\n",
      "weighted avg       0.87      0.87      0.87       209\n",
      "\n",
      "Matriz de Confusión:\n",
      "[[90 19]\n",
      " [ 9 91]]\n"
     ]
    }
   ],
   "source": [
    "''' #Resultado solo entrenado por X-train\n",
    "# \n",
    "# from sklearn.metrics import classification_report, confusion_matrix\n",
    "\n",
    "# Predecir con el modelo cargado\n",
    "y_pred_test = loaded_model.predict(X_test)\n",
    "\n",
    "# Convertir etiquetas numéricas a strings ('ham' y 'spam')\n",
    "y_pred_str = ['spam' if pred == 1 else 'ham' for pred in y_pred_test]\n",
    "\n",
    "# Obtener métricas de evaluación\n",
    "print(\"Reporte de Clasificación:\")\n",
    "print(classification_report(test_df['tipo'], y_pred_str))\n",
    "\n",
    "# Obtener y mostrar la matriz de confusión\n",
    "print(\"Matriz de Confusión:\")\n",
    "print(confusion_matrix(test_df['tipo'], y_pred_str))'''\n"
   ]
  },
  {
   "cell_type": "markdown",
   "metadata": {},
   "source": [
    "# Reporte de Clasificación de NB solo entrenado por X-train:\n",
    "\n",
    "|              | precision | recall | f1-score | support |\n",
    "|--------------|-----------|--------|----------|---------|\n",
    "| ham          | 0.91      | 0.83   | 0.87     | 109     |\n",
    "| spam         | 0.83      | 0.91   | 0.87     | 100     |\n",
    "| **accuracy** |           |        | 0.87     | 209     |\n",
    "| macro avg    | 0.87      | 0.87   | 0.87     | 209     |\n",
    "| weighted avg | 0.87      | 0.87   | 0.87     | 209     |\n",
    "\n",
    "# Matriz de Confusión:\n",
    "\n",
    "|      | ham | spam |\n",
    "|------|-----|------|\n",
    "| ham  | 90  | 19   |\n",
    "| spam | 9   | 91   |\n"
   ]
  },
  {
   "cell_type": "code",
   "execution_count": 10,
   "metadata": {},
   "outputs": [
    {
     "name": "stdout",
     "output_type": "stream",
     "text": [
      "Reporte de Clasificación:\n",
      "              precision    recall  f1-score   support\n",
      "\n",
      "         ham       0.92      0.86      0.89       109\n",
      "        spam       0.86      0.92      0.89       100\n",
      "\n",
      "    accuracy                           0.89       209\n",
      "   macro avg       0.89      0.89      0.89       209\n",
      "weighted avg       0.89      0.89      0.89       209\n",
      "\n",
      "Matriz de Confusión:\n",
      "[[94 15]\n",
      " [ 8 92]]\n"
     ]
    }
   ],
   "source": [
    "''' # Resultado de NB entrenado con todo X,y\n",
    "\n",
    "from sklearn.metrics import classification_report, confusion_matrix\n",
    "\n",
    "# Predecir con el modelo cargado\n",
    "y_pred_test = loaded_model.predict(X_test)\n",
    "\n",
    "# Convertir etiquetas numéricas a strings ('ham' y 'spam')\n",
    "y_pred_str = ['spam' if pred == 1 else 'ham' for pred in y_pred_test]\n",
    "\n",
    "# Obtener métricas de evaluación\n",
    "print(\"Reporte de Clasificación: de NB\")\n",
    "print(classification_report(test_df['tipo'], y_pred_str))\n",
    "\n",
    "# Obtener y mostrar la matriz de confusión\n",
    "print(\"Matriz de Confusión:\")\n",
    "print(confusion_matrix(test_df['tipo'], y_pred_str))''' "
   ]
  },
  {
   "cell_type": "markdown",
   "metadata": {},
   "source": [
    "# Reporte de Clasificación de NB entrenado con todo X,y:\n",
    "\n",
    "|              | precision | recall | f1-score | support |\n",
    "|--------------|------------|--------|----------|---------|\n",
    "| ham          | 0.92       | 0.86   | 0.89     | 109     |\n",
    "| spam         | 0.86       | 0.92   | 0.89     | 100     |\n",
    "| **accuracy** |            |        | 0.89     | 209     |\n",
    "| macro avg    | 0.89       | 0.89   | 0.89     | 209     |\n",
    "| weighted avg | 0.89       | 0.89   | 0.89     | 209     |\n",
    "\n",
    "# Matriz de Confusión:\n",
    "\n",
    "|      | ham | spam |\n",
    "|------|-----|------|\n",
    "| ham  | 94  | 15   |\n",
    "| spam | 8   | 92   |\n"
   ]
  },
  {
   "cell_type": "code",
   "execution_count": 14,
   "metadata": {},
   "outputs": [
    {
     "name": "stdout",
     "output_type": "stream",
     "text": [
      "Reporte de Clasificación: de SVM\n",
      "              precision    recall  f1-score   support\n",
      "\n",
      "         ham       0.91      0.85      0.88       109\n",
      "        spam       0.85      0.91      0.88       100\n",
      "\n",
      "    accuracy                           0.88       209\n",
      "   macro avg       0.88      0.88      0.88       209\n",
      "weighted avg       0.88      0.88      0.88       209\n",
      "\n",
      "Matriz de Confusión:\n",
      "[[93 16]\n",
      " [ 9 91]]\n"
     ]
    }
   ],
   "source": [
    "# Resultado de SVM entrenado con todo X,y\n",
    "\n",
    "from sklearn.metrics import classification_report, confusion_matrix\n",
    "\n",
    "# Predecir con el modelo cargado\n",
    "y_pred_test = loaded_model_svm.predict(X_test)\n",
    "\n",
    "# Convertir etiquetas numéricas a strings ('ham' y 'spam')\n",
    "y_pred_str = ['spam' if pred == 1 else 'ham' for pred in y_pred_test]\n",
    "\n",
    "# Obtener métricas de evaluación\n",
    "print(\"Reporte de Clasificación: de SVM\")\n",
    "print(classification_report(test_df['tipo'], y_pred_str))\n",
    "\n",
    "# Obtener y mostrar la matriz de confusión\n",
    "print(\"Matriz de Confusión:\")\n",
    "print(confusion_matrix(test_df['tipo'], y_pred_str))"
   ]
  },
  {
   "cell_type": "markdown",
   "metadata": {},
   "source": [
    "## Conclusiones\n",
    "\n",
    "# Precisión y Recall:\n",
    "\n",
    "Ambos modelos muestran un rendimiento similar con Naive Bayes teniendo una ligera ventaja en la clase \"ham\" en términos de precisión, recall, y F1-score.\n",
    "\n",
    "Naive Bayes tiene una precisión ligeramente mayor en general (0.89 vs 0.88).\n",
    "\n",
    "# Matriz de Confusión:\n",
    "\n",
    "Naive Bayes comete menos errores de clasificación en ambas clases comparado con SVM. Tiene menos falsos negativos y falsos positivos.\n",
    "\n",
    "# Balance entre las Clases:\n",
    "\n",
    "Ambos modelos tienen un balance adecuado entre las clases \"ham\" y \"spam\". La diferencia en las métricas no es significativa, pero Naive Bayes parece ser ligeramente mejor.\n",
    "\n",
    "# Elección del Modelo:\n",
    "\n",
    "Dado que Naive Bayes tiene una precisión global ligeramente mejor y comete menos errores en la matriz de confusión, se puede considerar como la mejor opción para este problema de clasificación de spam en este conjunto de datos específico.\n",
    "\n",
    "\n",
    "\n",
    "\n",
    "\n",
    "\n"
   ]
  },
  {
   "cell_type": "code",
   "execution_count": 19,
   "metadata": {},
   "outputs": [
    {
     "name": "stdout",
     "output_type": "stream",
     "text": [
      "Mensajes donde el modelo se equivocó:\n",
      "                                           mensaje  tipo prediccion\n",
      "14               Confirma tu registro al seminario   ham       spam\n",
      "24                  Tu donacion hara la diferencia   ham       spam\n",
      "32          Encuentra tu equilibrio con meditacion   ham       spam\n",
      "33         Danos tu opinion sobre nuestro servicio  spam        ham\n",
      "35               No calificaste para este prestamo   ham       spam\n",
      "56   Protegemos tus compras con garantia extendida   ham       spam\n",
      "77        Regresa a tu infancia con estos juguetes  spam        ham\n",
      "93       Se parte del record Guinness con nosotros  spam        ham\n",
      "94       Tu certificado de ingresos ya fue emitido   ham       spam\n",
      "98              Lee como protegemos tu informacion   ham       spam\n",
      "103   Lee nuestro analisis semanal de la industria   ham       spam\n",
      "139           Monitorea tu envio con este tracking   ham       spam\n",
      "149  Verifica tu numero de cuenta para el deposito  spam        ham\n",
      "158                Haz tu reclamo de subsidio aqui   ham       spam\n",
      "170                  Renueva tu membresia a tiempo   ham       spam\n",
      "172       Apoya esta causa solidaria con tu aporte  spam        ham\n",
      "175                Registra tu telefono en un clic   ham       spam\n",
      "179            Paga tu cuota antes del 30 y ahorra   ham       spam\n",
      "183        Extiende tu suscripcion sin costo extra  spam        ham\n",
      "192           Mejorar tus defensas con probioticos  spam        ham\n",
      "201              Envia una selfie con tu documento  spam        ham\n",
      "206                   Elige entre debito o credito   ham       spam\n",
      "207              Salva una vida donando sangre hoy   ham       spam\n"
     ]
    }
   ],
   "source": [
    "# Mostrar mensajes donde el modelo NB se equivocó\n",
    "test_df['prediccion'] = y_pred_str\n",
    "errores = test_df[test_df['tipo'] != test_df['prediccion']]\n",
    "\n",
    "print(\"Mensajes donde el modelo se equivocó:\")\n",
    "print(errores[['mensaje', 'tipo', 'prediccion']])\n"
   ]
  },
  {
   "cell_type": "code",
   "execution_count": 17,
   "metadata": {},
   "outputs": [
    {
     "name": "stdout",
     "output_type": "stream",
     "text": [
      "Mensajes donde el modelo se equivocó:\n",
      "                                             mensaje  tipo prediccion\n",
      "14                 Confirma tu registro al seminario   ham       spam\n",
      "24                    Tu donacion hara la diferencia   ham       spam\n",
      "32            Encuentra tu equilibrio con meditacion   ham       spam\n",
      "33           Danos tu opinion sobre nuestro servicio  spam        ham\n",
      "35                 No calificaste para este prestamo   ham       spam\n",
      "46   Conoce las actualizaciones a nuestras politicas   ham       spam\n",
      "54         Reconfirma tu reserva para el tratamiento   ham       spam\n",
      "56     Protegemos tus compras con garantia extendida   ham       spam\n",
      "77          Regresa a tu infancia con estos juguetes  spam        ham\n",
      "91                 Verifica tu correo para continuar   ham       spam\n",
      "103     Lee nuestro analisis semanal de la industria   ham       spam\n",
      "106        No olvides tu evaluacion medica de rutina   ham       spam\n",
      "109                   Reclama aqui tu 2x1 para cenar  spam        ham\n",
      "117     Unifica tus prestamos y paga menos intereses  spam        ham\n",
      "120        Cambia tu contrasena para mayor seguridad   ham       spam\n",
      "139             Monitorea tu envio con este tracking   ham       spam\n",
      "149    Verifica tu numero de cuenta para el deposito  spam        ham\n",
      "158                  Haz tu reclamo de subsidio aqui   ham       spam\n",
      "159            Hola reinventa tu estilo con nosotros  spam        ham\n",
      "170                    Renueva tu membresia a tiempo   ham       spam\n",
      "172         Apoya esta causa solidaria con tu aporte  spam        ham\n",
      "175                  Registra tu telefono en un clic   ham       spam\n",
      "183          Extiende tu suscripcion sin costo extra  spam        ham\n",
      "201                Envia una selfie con tu documento  spam        ham\n",
      "207                Salva una vida donando sangre hoy   ham       spam\n"
     ]
    }
   ],
   "source": [
    "# Mostrar mensajes donde el modelo SVM se equivocó\n",
    "test_df['prediccion'] = y_pred_str\n",
    "errores = test_df[test_df['tipo'] != test_df['prediccion']]\n",
    "\n",
    "print(\"Mensajes donde el modelo se equivocó:\")\n",
    "print(errores[['mensaje', 'tipo', 'prediccion']])"
   ]
  },
  {
   "cell_type": "markdown",
   "metadata": {},
   "source": [
    "Conclusiones\n",
    "Mensajes Comunes donde ambos Modelos se Equivocaron:\n",
    "\n",
    "\"Confirma tu registro al seminario\" (ham -> spam)\n",
    "\"Tu donacion hara la diferencia\" (ham -> spam)\n",
    "\"Encuentra tu equilibrio con meditacion\" (ham -> spam)\n",
    "\"Danos tu opinion sobre nuestro servicio\" (spam -> ham)\n",
    "\"No calificaste para este prestamo\" (ham -> spam)\n",
    "\"Protegemos tus compras con garantia extendida\" (ham -> spam)\n",
    "\"Regresa a tu infancia con estos juguetes\" (spam -> ham)\n",
    "\"Lee nuestro analisis semanal de la industria\" (ham -> spam)\n",
    "\"Monitorea tu envio con este tracking\" (ham -> spam)\n",
    "\"Verifica tu numero de cuenta para el deposito\" (spam -> ham)\n",
    "\"Haz tu reclamo de subsidio aqui\" (ham -> spam)\n",
    "\"Renueva tu membresia a tiempo\" (ham -> spam)\n",
    "\"Apoya esta causa solidaria con tu aporte\" (spam -> ham)\n",
    "\"Registra tu telefono en un clic\" (ham -> spam)\n",
    "\"Extiende tu suscripcion sin costo extra\" (spam -> ham)\n",
    "\"Envia una selfie con tu documento\" (spam -> ham)\n",
    "\"Salva una vida donando sangre hoy\" (ham -> spam)\n",
    "Mensajes donde solo uno de los Modelos se Equivocó:\n",
    "\n",
    "NB tiene menos errores únicos, con mensajes como \"Mejorar tus defensas con probioticos\" (spam -> ham).\n",
    "SVM tiene más errores únicos, incluyendo mensajes como \"Conoce las actualizaciones a nuestras politicas\" (ham -> spam) y \"No olvides tu evaluacion medica de rutina\" (ham -> spam).\n",
    "Errores de Falsos Positivos (ham -> spam):\n",
    "\n",
    "Ambos modelos cometen errores similares en los mensajes ham que predicen como spam.\n",
    "Ejemplos comunes incluyen \"Confirma tu registro al seminario\" y \"Tu donacion hara la diferencia\".\n",
    "Errores de Falsos Negativos (spam -> ham):\n",
    "\n",
    "Ambos modelos cometen errores en mensajes spam que predicen como ham, aunque SVM tiene más ejemplos únicos.\n",
    "Ejemplos comunes incluyen \"Danos tu opinion sobre nuestro servicio\" y \"Regresa a tu infancia con estos juguetes\".\n",
    "Resumen\n",
    "Ambos modelos tienen errores similares en algunos mensajes, especialmente en aquellos que son ambiguos y pueden ser interpretados de manera incorrecta.\n",
    "SVM parece tener un mayor número de errores únicos, indicando que puede ser más sensible a ciertas características de los mensajes.\n",
    "Naive Bayes (NB) muestra un rendimiento ligeramente mejor en términos de precisión y menor número de errores únicos.\n",
    "Conclusión Final: Dado que ambos modelos tienen fortalezas y debilidades similares, Naive Bayes puede ser preferido debido a su menor número de errores únicos y su rendimiento ligeramente superior en las métricas generales.\n",
    "\n",
    "\n",
    "\n",
    "\n",
    "\n"
   ]
  },
  {
   "cell_type": "code",
   "execution_count": 12,
   "metadata": {},
   "outputs": [
    {
     "name": "stdout",
     "output_type": "stream",
     "text": [
      "Mensaje: URGENTE ponte en contacto conmigo\n",
      "Predicción: ham\n"
     ]
    }
   ],
   "source": [
    "# Mensaje a probar\n",
    "mensaje_prueba = 'URGENTE ponte en contacto conmigo'\n",
    "\n",
    "# Preprocesar el mensaje\n",
    "mensaje_prueba_limpio = limpiar_texto_con_stopwords(mensaje_prueba)\n",
    "\n",
    "# Vectorizar el mensaje\n",
    "mensaje_prueba_vectorizado = vectorizador.transform([mensaje_prueba_limpio])\n",
    "\n",
    "# Predecir con el modelo cargado\n",
    "prediccion = loaded_model.predict(mensaje_prueba_vectorizado)\n",
    "\n",
    "# Convertir la predicción a etiqueta\n",
    "prediccion_etiqueta = 'spam' if prediccion[0] == 1 else 'ham'\n",
    "\n",
    "print(f\"Mensaje: {mensaje_prueba}\")\n",
    "print(f\"Predicción: {prediccion_etiqueta}\")"
   ]
  },
  {
   "cell_type": "code",
   "execution_count": 13,
   "metadata": {},
   "outputs": [
    {
     "name": "stdout",
     "output_type": "stream",
     "text": [
      "Mensaje: Sexo gratis\n",
      "Predicción: spam\n"
     ]
    }
   ],
   "source": [
    "# Mensaje a probar\n",
    "mensaje_prueba = 'Sexo gratis'\n",
    "\n",
    "# Preprocesar el mensaje\n",
    "mensaje_prueba_limpio = limpiar_texto_con_stopwords(mensaje_prueba)\n",
    "\n",
    "# Vectorizar el mensaje\n",
    "mensaje_prueba_vectorizado = vectorizador.transform([mensaje_prueba_limpio])\n",
    "\n",
    "# Predecir con el modelo cargado\n",
    "prediccion = loaded_model.predict(mensaje_prueba_vectorizado)\n",
    "\n",
    "# Convertir la predicción a etiqueta\n",
    "prediccion_etiqueta = 'spam' if prediccion[0] == 1 else 'ham'\n",
    "\n",
    "print(f\"Mensaje: {mensaje_prueba}\")\n",
    "print(f\"Predicción: {prediccion_etiqueta}\")"
   ]
  },
  {
   "cell_type": "code",
   "execution_count": 16,
   "metadata": {},
   "outputs": [
    {
     "name": "stdout",
     "output_type": "stream",
     "text": [
      "Mensaje: Recoge tu premio\n",
      "Predicción: spam\n"
     ]
    }
   ],
   "source": [
    "# Mensaje a probar\n",
    "mensaje_prueba = 'Recoge tu premio'\n",
    "\n",
    "# Preprocesar el mensaje\n",
    "mensaje_prueba_limpio = limpiar_texto_con_stopwords(mensaje_prueba)\n",
    "\n",
    "# Vectorizar el mensaje\n",
    "mensaje_prueba_vectorizado = vectorizador.transform([mensaje_prueba_limpio])\n",
    "\n",
    "# Predecir con el modelo cargado\n",
    "prediccion = loaded_model.predict(mensaje_prueba_vectorizado)\n",
    "\n",
    "# Convertir la predicción a etiqueta\n",
    "prediccion_etiqueta = 'spam' if prediccion[0] == 1 else 'ham'\n",
    "\n",
    "print(f\"Mensaje: {mensaje_prueba}\")\n",
    "print(f\"Predicción: {prediccion_etiqueta}\")"
   ]
  },
  {
   "cell_type": "code",
   "execution_count": 17,
   "metadata": {},
   "outputs": [
    {
     "name": "stdout",
     "output_type": "stream",
     "text": [
      "Mensaje: Quiero contactar contigo\n",
      "Predicción: spam\n"
     ]
    }
   ],
   "source": [
    "# Mensaje a probar\n",
    "mensaje_prueba = 'Quiero contactar contigo'\n",
    "\n",
    "# Preprocesar el mensaje\n",
    "mensaje_prueba_limpio = limpiar_texto_con_stopwords(mensaje_prueba)\n",
    "\n",
    "# Vectorizar el mensaje\n",
    "mensaje_prueba_vectorizado = vectorizador.transform([mensaje_prueba_limpio])\n",
    "\n",
    "# Predecir con el modelo cargado\n",
    "prediccion = loaded_model.predict(mensaje_prueba_vectorizado)\n",
    "\n",
    "# Convertir la predicción a etiqueta\n",
    "prediccion_etiqueta = 'spam' if prediccion[0] == 1 else 'ham'\n",
    "\n",
    "print(f\"Mensaje: {mensaje_prueba}\")\n",
    "print(f\"Predicción: {prediccion_etiqueta}\")"
   ]
  },
  {
   "cell_type": "code",
   "execution_count": 18,
   "metadata": {},
   "outputs": [
    {
     "name": "stdout",
     "output_type": "stream",
     "text": [
      "Mensaje: Todos los lunes llueve\n",
      "Predicción: ham\n"
     ]
    }
   ],
   "source": [
    "# Mensaje a probar\n",
    "mensaje_prueba = 'Todos los lunes llueve'\n",
    "# Preprocesar el mensaje\n",
    "mensaje_prueba_limpio = limpiar_texto_con_stopwords(mensaje_prueba)\n",
    "\n",
    "# Vectorizar el mensaje\n",
    "mensaje_prueba_vectorizado = vectorizador.transform([mensaje_prueba_limpio])\n",
    "\n",
    "# Predecir con el modelo cargado\n",
    "prediccion = loaded_model.predict(mensaje_prueba_vectorizado)\n",
    "\n",
    "# Convertir la predicción a etiqueta\n",
    "prediccion_etiqueta = 'spam' if prediccion[0] == 1 else 'ham'\n",
    "\n",
    "print(f\"Mensaje: {mensaje_prueba}\")\n",
    "print(f\"Predicción: {prediccion_etiqueta}\")"
   ]
  }
 ],
 "metadata": {
  "kernelspec": {
   "display_name": "Python 3",
   "language": "python",
   "name": "python3"
  },
  "language_info": {
   "codemirror_mode": {
    "name": "ipython",
    "version": 3
   },
   "file_extension": ".py",
   "mimetype": "text/x-python",
   "name": "python",
   "nbconvert_exporter": "python",
   "pygments_lexer": "ipython3",
   "version": "3.11.9"
  }
 },
 "nbformat": 4,
 "nbformat_minor": 2
}
