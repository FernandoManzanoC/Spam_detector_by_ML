{
 "cells": [
  {
   "cell_type": "code",
   "execution_count": null,
   "metadata": {},
   "outputs": [],
   "source": []
  },
  {
   "cell_type": "markdown",
   "metadata": {},
   "source": [
    "En este notebook traté de mejorar el modelo NB para inglés tras pipeline, pero algo va mal porque han aparecido NAN que no deberian existir."
   ]
  },
  {
   "cell_type": "code",
   "execution_count": 3,
   "metadata": {},
   "outputs": [
    {
     "name": "stderr",
     "output_type": "stream",
     "text": [
      "[nltk_data] Downloading package punkt to\n",
      "[nltk_data]     C:\\Users\\ferna\\AppData\\Roaming\\nltk_data...\n",
      "[nltk_data]   Package punkt is already up-to-date!\n"
     ]
    },
    {
     "name": "stdout",
     "output_type": "stream",
     "text": [
      "Reporte de Clasificación en el conjunto de validación:\n",
      "              precision    recall  f1-score   support\n",
      "\n",
      "         ham       1.00      0.96      0.98       707\n",
      "        spam       0.91      0.99      0.95       292\n",
      "\n",
      "    accuracy                           0.97       999\n",
      "   macro avg       0.95      0.98      0.96       999\n",
      "weighted avg       0.97      0.97      0.97       999\n",
      "\n",
      "Matriz de Confusión en el conjunto de validación:\n",
      "[[679  28]\n",
      " [  2 290]]\n",
      "Exactitud en el conjunto de validación:\n",
      "0.96996996996997\n",
      "Reporte de Clasificación en el conjunto de prueba:\n",
      "              precision    recall  f1-score   support\n",
      "\n",
      "         ham       1.00      0.95      0.97       706\n",
      "        spam       0.88      0.99      0.93       293\n",
      "\n",
      "    accuracy                           0.96       999\n",
      "   macro avg       0.94      0.97      0.95       999\n",
      "weighted avg       0.96      0.96      0.96       999\n",
      "\n",
      "Matriz de Confusión en el conjunto de prueba:\n",
      "[[668  38]\n",
      " [  3 290]]\n",
      "Exactitud en el conjunto de prueba:\n",
      "0.958958958958959\n",
      "Casos donde el modelo se ha equivocado:\n",
      "                                                   text actual predicted\n",
      "0                                                   NaN    NaN       ham\n",
      "2                                                   NaN    NaN      spam\n",
      "3     photoshop , window , offic . cheap . main tren...   spam       ham\n",
      "4                                                   NaN    NaN      spam\n",
      "5     ehronlin web address chang this messag is inte...    ham      spam\n",
      "...                                                 ...    ...       ...\n",
      "4965  econom 55 % and more with your recip we assist...   spam       NaN\n",
      "4977  feb 12 th sale to aquila fyi daren - - - on th...    ham       NaN\n",
      "4982  pictur streamlin denizen ajar chase heaven hos...   spam       NaN\n",
      "4985  anomali boy from 3881 uosda apaprov mledm heur...   spam       NaN\n",
      "4987  slutti milf want to meet you take that ! ' ila...   spam       NaN\n",
      "\n",
      "[1717 rows x 3 columns]\n"
     ]
    }
   ],
   "source": [
    "import joblib\n",
    "import pandas as pd\n",
    "from sklearn.feature_extraction.text import TfidfVectorizer\n",
    "from sklearn.model_selection import train_test_split\n",
    "from sklearn.naive_bayes import MultinomialNB\n",
    "from sklearn.pipeline import Pipeline\n",
    "from sklearn.metrics import classification_report, confusion_matrix, accuracy_score\n",
    "from imblearn.over_sampling import SMOTE\n",
    "from imblearn.pipeline import Pipeline as ImbPipeline\n",
    "from nltk.stem import SnowballStemmer\n",
    "from nltk.tokenize import word_tokenize\n",
    "import nltk\n",
    "\n",
    "# Descargar el paquete 'punkt' para el tokenizador\n",
    "nltk.download('punkt')\n",
    "\n",
    "# Función de stemming\n",
    "stemmer = SnowballStemmer(\"english\")\n",
    "def stem_text(text):\n",
    "    return ' '.join([stemmer.stem(word) for word in word_tokenize(text)])\n",
    "\n",
    "# Cargar el dataset modificado\n",
    "df_modificado = pd.read_csv('../data_en/spam_ham_dataset_modificado.csv')\n",
    "\n",
    "# Aplicar stemming\n",
    "df_modificado['text'] = df_modificado['text'].apply(stem_text)\n",
    "\n",
    "# Dividir el dataset en conjunto de entrenamiento, validación y prueba\n",
    "X_train, X_test, y_train, y_test = train_test_split(df_modificado['text'], df_modificado['label_num'], test_size=0.2, random_state=42, stratify=df_modificado['label_num'])\n",
    "X_train, X_val, y_train, y_val = train_test_split(X_train, y_train, test_size=0.25, random_state=42, stratify=y_train)\n",
    "\n",
    "# Crear y entrenar el pipeline con bigramas y stemming, usando SMOTE\n",
    "pipeline = ImbPipeline([\n",
    "    ('vectorizer', TfidfVectorizer(ngram_range=(1, 2))),\n",
    "    ('smote', SMOTE(random_state=42)),\n",
    "    ('classifier', MultinomialNB())\n",
    "])\n",
    "pipeline.fit(X_train, y_train)\n",
    "\n",
    "# Evaluar el modelo en el conjunto de validación\n",
    "y_val_pred = pipeline.predict(X_val)\n",
    "print(\"Reporte de Clasificación en el conjunto de validación:\")\n",
    "print(classification_report(y_val, y_val_pred, target_names=['ham', 'spam']))\n",
    "print(\"Matriz de Confusión en el conjunto de validación:\")\n",
    "print(confusion_matrix(y_val, y_val_pred))\n",
    "print(\"Exactitud en el conjunto de validación:\")\n",
    "print(accuracy_score(y_val, y_val_pred))\n",
    "\n",
    "# Guardar el modelo y el vectorizador\n",
    "joblib.dump(pipeline, '../modelos_y_vectorizadores_en/naive_bayes_smote_pipeline_improved.pkl')\n",
    "\n",
    "# Evaluar el modelo en el conjunto de prueba\n",
    "y_test_pred = pipeline.predict(X_test)\n",
    "print(\"Reporte de Clasificación en el conjunto de prueba:\")\n",
    "print(classification_report(y_test, y_test_pred, target_names=['ham', 'spam']))\n",
    "print(\"Matriz de Confusión en el conjunto de prueba:\")\n",
    "print(confusion_matrix(y_test, y_test_pred))\n",
    "print(\"Exactitud en el conjunto de prueba:\")\n",
    "print(accuracy_score(y_test, y_test_pred))\n",
    "\n",
    "# Identificar los casos donde el modelo se ha equivocado\n",
    "label_mapping = {0: 'ham', 1: 'spam'}\n",
    "y_test_mapped = y_test.map(label_mapping)\n",
    "y_test_pred_mapped = pd.Series(y_test_pred).map(label_mapping)\n",
    "results_df = pd.DataFrame({'text': X_test, 'actual': y_test_mapped, 'predicted': y_test_pred_mapped})\n",
    "incorrect_cases = results_df[results_df['actual'] != results_df['predicted']]\n",
    "\n",
    "# Mostrar los casos incorrectos\n",
    "print(\"Casos donde el modelo se ha equivocado:\")\n",
    "print(incorrect_cases)\n",
    "\n"
   ]
  },
  {
   "cell_type": "code",
   "execution_count": null,
   "metadata": {},
   "outputs": [],
   "source": []
  },
  {
   "cell_type": "markdown",
   "metadata": {},
   "source": [
    "Algo no ha ido bien porque muestra NaN que antes no habia"
   ]
  },
  {
   "cell_type": "code",
   "execution_count": 4,
   "metadata": {},
   "outputs": [
    {
     "data": {
      "text/html": [
       "<div>\n",
       "<style scoped>\n",
       "    .dataframe tbody tr th:only-of-type {\n",
       "        vertical-align: middle;\n",
       "    }\n",
       "\n",
       "    .dataframe tbody tr th {\n",
       "        vertical-align: top;\n",
       "    }\n",
       "\n",
       "    .dataframe thead th {\n",
       "        text-align: right;\n",
       "    }\n",
       "</style>\n",
       "<table border=\"1\" class=\"dataframe\">\n",
       "  <thead>\n",
       "    <tr style=\"text-align: right;\">\n",
       "      <th></th>\n",
       "      <th>Unnamed: 0</th>\n",
       "      <th>label_num</th>\n",
       "    </tr>\n",
       "  </thead>\n",
       "  <tbody>\n",
       "    <tr>\n",
       "      <th>count</th>\n",
       "      <td>4993.000000</td>\n",
       "      <td>4993.000000</td>\n",
       "    </tr>\n",
       "    <tr>\n",
       "      <th>mean</th>\n",
       "      <td>2581.528139</td>\n",
       "      <td>0.292810</td>\n",
       "    </tr>\n",
       "    <tr>\n",
       "      <th>std</th>\n",
       "      <td>1505.740921</td>\n",
       "      <td>0.455098</td>\n",
       "    </tr>\n",
       "    <tr>\n",
       "      <th>min</th>\n",
       "      <td>0.000000</td>\n",
       "      <td>0.000000</td>\n",
       "    </tr>\n",
       "    <tr>\n",
       "      <th>25%</th>\n",
       "      <td>1251.000000</td>\n",
       "      <td>0.000000</td>\n",
       "    </tr>\n",
       "    <tr>\n",
       "      <th>50%</th>\n",
       "      <td>2578.000000</td>\n",
       "      <td>0.000000</td>\n",
       "    </tr>\n",
       "    <tr>\n",
       "      <th>75%</th>\n",
       "      <td>3886.000000</td>\n",
       "      <td>1.000000</td>\n",
       "    </tr>\n",
       "    <tr>\n",
       "      <th>max</th>\n",
       "      <td>5170.000000</td>\n",
       "      <td>1.000000</td>\n",
       "    </tr>\n",
       "  </tbody>\n",
       "</table>\n",
       "</div>"
      ],
      "text/plain": [
       "        Unnamed: 0    label_num\n",
       "count  4993.000000  4993.000000\n",
       "mean   2581.528139     0.292810\n",
       "std    1505.740921     0.455098\n",
       "min       0.000000     0.000000\n",
       "25%    1251.000000     0.000000\n",
       "50%    2578.000000     0.000000\n",
       "75%    3886.000000     1.000000\n",
       "max    5170.000000     1.000000"
      ]
     },
     "execution_count": 4,
     "metadata": {},
     "output_type": "execute_result"
    }
   ],
   "source": [
    "df_modificado.describe()"
   ]
  },
  {
   "cell_type": "code",
   "execution_count": 5,
   "metadata": {},
   "outputs": [
    {
     "name": "stdout",
     "output_type": "stream",
     "text": [
      "<class 'pandas.core.frame.DataFrame'>\n",
      "RangeIndex: 4993 entries, 0 to 4992\n",
      "Data columns (total 4 columns):\n",
      " #   Column      Non-Null Count  Dtype \n",
      "---  ------      --------------  ----- \n",
      " 0   Unnamed: 0  4993 non-null   int64 \n",
      " 1   label       4993 non-null   object\n",
      " 2   text        4993 non-null   object\n",
      " 3   label_num   4993 non-null   int64 \n",
      "dtypes: int64(2), object(2)\n",
      "memory usage: 156.2+ KB\n"
     ]
    }
   ],
   "source": [
    "df_modificado.info()"
   ]
  }
 ],
 "metadata": {
  "kernelspec": {
   "display_name": "Python 3",
   "language": "python",
   "name": "python3"
  },
  "language_info": {
   "codemirror_mode": {
    "name": "ipython",
    "version": 3
   },
   "file_extension": ".py",
   "mimetype": "text/x-python",
   "name": "python",
   "nbconvert_exporter": "python",
   "pygments_lexer": "ipython3",
   "version": "3.11.9"
  }
 },
 "nbformat": 4,
 "nbformat_minor": 2
}
